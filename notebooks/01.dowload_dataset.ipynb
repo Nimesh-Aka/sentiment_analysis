{
 "cells": [
  {
   "cell_type": "markdown",
   "metadata": {},
   "source": [
    "# Sentiment Analysis Dataset Preparation\n",
    "\n",
    "This notebook demonstrates how to download and prepare a sentiment analysis dataset from Kaggle using their API. The process includes:\n",
    "\n",
    "- Loading Kaggle credentials\n",
    "- Authenticating with the Kaggle API\n",
    "- Downloading a sentiment analysis dataset\n",
    "- Extracting the dataset for further analysis\n",
    "\n",
    "**Requirements**: Kaggle account and API credentials"
   ]
  },
  {
   "cell_type": "code",
   "execution_count": 1,
   "metadata": {},
   "outputs": [],
   "source": [
    "import numpy as np"
   ]
  },
  {
   "cell_type": "code",
   "execution_count": 2,
   "metadata": {},
   "outputs": [],
   "source": [
    "import json\n",
    "with open(\"../artifacts/kaggle.json\", \"r\") as file:\n",
    "    data = json.load(file)\n"
   ]
  },
  {
   "cell_type": "markdown",
   "metadata": {},
   "source": [
    "### Display Credentials (for verification only)"
   ]
  },
  {
   "cell_type": "code",
   "execution_count": 3,
   "metadata": {},
   "outputs": [
    {
     "data": {
      "text/plain": [
       "{'username': 'nimeshakarshana', 'key': '0e50d78835a1e1063466a7b451c8952b'}"
      ]
     },
     "execution_count": 3,
     "metadata": {},
     "output_type": "execute_result"
    }
   ],
   "source": [
    "data"
   ]
  },
  {
   "cell_type": "code",
   "execution_count": 4,
   "metadata": {},
   "outputs": [
    {
     "name": "stdout",
     "output_type": "stream",
     "text": [
      "Requirement already satisfied: kaggle in d:\\education\\ai&ml\\ai_projects\\sentiment_analysis\\env\\lib\\site-packages (1.7.4.5)\n",
      "Requirement already satisfied: bleach in d:\\education\\ai&ml\\ai_projects\\sentiment_analysis\\env\\lib\\site-packages (from kaggle) (6.2.0)\n",
      "Requirement already satisfied: certifi>=14.05.14 in d:\\education\\ai&ml\\ai_projects\\sentiment_analysis\\env\\lib\\site-packages (from kaggle) (2025.4.26)\n",
      "Requirement already satisfied: charset-normalizer in d:\\education\\ai&ml\\ai_projects\\sentiment_analysis\\env\\lib\\site-packages (from kaggle) (3.4.2)\n",
      "Requirement already satisfied: idna in d:\\education\\ai&ml\\ai_projects\\sentiment_analysis\\env\\lib\\site-packages (from kaggle) (3.10)\n",
      "Requirement already satisfied: protobuf in d:\\education\\ai&ml\\ai_projects\\sentiment_analysis\\env\\lib\\site-packages (from kaggle) (6.31.0)\n",
      "Requirement already satisfied: python-dateutil>=2.5.3 in d:\\education\\ai&ml\\ai_projects\\sentiment_analysis\\env\\lib\\site-packages (from kaggle) (2.9.0.post0)\n",
      "Requirement already satisfied: python-slugify in d:\\education\\ai&ml\\ai_projects\\sentiment_analysis\\env\\lib\\site-packages (from kaggle) (8.0.4)\n",
      "Requirement already satisfied: requests in d:\\education\\ai&ml\\ai_projects\\sentiment_analysis\\env\\lib\\site-packages (from kaggle) (2.32.3)\n",
      "Requirement already satisfied: setuptools>=21.0.0 in d:\\education\\ai&ml\\ai_projects\\sentiment_analysis\\env\\lib\\site-packages (from kaggle) (80.7.1)\n",
      "Requirement already satisfied: six>=1.10 in d:\\education\\ai&ml\\ai_projects\\sentiment_analysis\\env\\lib\\site-packages (from kaggle) (1.17.0)\n",
      "Requirement already satisfied: text-unidecode in d:\\education\\ai&ml\\ai_projects\\sentiment_analysis\\env\\lib\\site-packages (from kaggle) (1.3)\n",
      "Requirement already satisfied: tqdm in d:\\education\\ai&ml\\ai_projects\\sentiment_analysis\\env\\lib\\site-packages (from kaggle) (4.67.1)\n",
      "Requirement already satisfied: urllib3>=1.15.1 in d:\\education\\ai&ml\\ai_projects\\sentiment_analysis\\env\\lib\\site-packages (from kaggle) (2.4.0)\n",
      "Requirement already satisfied: webencodings in d:\\education\\ai&ml\\ai_projects\\sentiment_analysis\\env\\lib\\site-packages (from kaggle) (0.5.1)\n",
      "Requirement already satisfied: colorama in d:\\education\\ai&ml\\ai_projects\\sentiment_analysis\\env\\lib\\site-packages (from tqdm->kaggle) (0.4.6)\n"
     ]
    }
   ],
   "source": [
    "!pip install kaggle"
   ]
  },
  {
   "cell_type": "code",
   "execution_count": 5,
   "metadata": {},
   "outputs": [],
   "source": [
    "import os\n",
    "os.environ['KAGGLE_USERNAME'] = data['username']\n",
    "os.environ['KAGGLE_KEY'] = data['key']"
   ]
  },
  {
   "cell_type": "markdown",
   "metadata": {},
   "source": [
    "### Authenticate with Kaggle\n",
    "\n",
    "This step initializes the Kaggle API client and authenticates using the credentials we loaded:\n",
    "\n",
    "1. The `KaggleApi` class provides programmatic access to Kaggle's features\n",
    "2. We create an instance of the API client\n",
    "3. The `authenticate()` method uses our username and API key (stored in environment variables)\n",
    "4. Authentication must succeed before we can download datasets\n",
    "\n",
    "If this step fails, check that your kaggle.json file contains valid credentials and that the environment variables were properly set."
   ]
  },
  {
   "cell_type": "code",
   "execution_count": 6,
   "metadata": {},
   "outputs": [],
   "source": [
    "from kaggle.api.kaggle_api_extended import KaggleApi\n",
    "api = KaggleApi()\n",
    "api.authenticate()"
   ]
  },
  {
   "cell_type": "markdown",
   "metadata": {},
   "source": [
    "### Download the Sentiment Analysis Datase"
   ]
  },
  {
   "cell_type": "code",
   "execution_count": 7,
   "metadata": {},
   "outputs": [
    {
     "name": "stdout",
     "output_type": "stream",
     "text": [
      "Dataset URL: https://www.kaggle.com/datasets/dineshpiyasamara/sentiment-analysis-dataset\n"
     ]
    }
   ],
   "source": [
    "api.dataset_download_files('dineshpiyasamara/sentiment-analysis-dataset', path='../artifacts/')"
   ]
  },
  {
   "cell_type": "markdown",
   "metadata": {},
   "source": [
    "### Extract the Downloaded ZIP File"
   ]
  },
  {
   "cell_type": "code",
   "execution_count": 8,
   "metadata": {},
   "outputs": [],
   "source": [
    "import zipfile\n",
    "with zipfile.ZipFile(\"../artifacts/sentiment-analysis-dataset.zip\", 'r') as zip_ref:\n",
    "    zip_ref.extractall(\"../artifacts/\")"
   ]
  }
 ],
 "metadata": {
  "kernelspec": {
   "display_name": "env",
   "language": "python",
   "name": "python3"
  },
  "language_info": {
   "codemirror_mode": {
    "name": "ipython",
    "version": 3
   },
   "file_extension": ".py",
   "mimetype": "text/x-python",
   "name": "python",
   "nbconvert_exporter": "python",
   "pygments_lexer": "ipython3",
   "version": "3.12.7"
  }
 },
 "nbformat": 4,
 "nbformat_minor": 4
}
